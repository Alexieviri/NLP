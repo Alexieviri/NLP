{
 "cells": [
  {
   "cell_type": "markdown",
   "metadata": {},
   "source": [
    "# Лабораторная работа №2\n",
    "\n",
    "Требования:\n",
    "* Python >= 3.X\n",
    "* NLTK >= 3.2.5\n",
    "\n",
    "Лабораторную работу необходимо выполнять в данном шаблоне. Результат работы выслать письмом на litvinov.vg@ssau.ru. В теме письма указывать ФИО полностью.\n",
    "\n",
    "Необходимо провести исследование различных способов представления документов и их влияние на качество определения тональности.\n",
    "\n",
    "В качестве входных данных к лабораторной работе взят широко известный набор данных IMDB, содержащий 50K обзоров фильмов ([imdb-dataset-of-50k-movie-reviews](https://www.kaggle.com/lakshmi25npathi/imdb-dataset-of-50k-movie-reviews)). Откликами являются значения двух классов positive и negative."
   ]
  },
  {
   "cell_type": "code",
   "execution_count": 47,
   "metadata": {},
   "outputs": [],
   "source": [
    "import re\n",
    "import nltk\n",
    "import pandas as pd\n",
    "import matplotlib.pyplot as plt\n",
    "\n",
    "from collections import Counter\n",
    "\n",
    "from nltk.tokenize import word_tokenize\n",
    "from nltk.util import ngrams\n",
    "from nltk.corpus import stopwords\n",
    "\n",
    "from sklearn.preprocessing import LabelEncoder\n",
    "from sklearn.ensemble import RandomForestClassifier\n",
    "from sklearn.svm import LinearSVC\n",
    "from sklearn.feature_extraction.text import CountVectorizer, TfidfVectorizer\n",
    "from sklearn.metrics import classification_report, confusion_matrix, accuracy_score \n",
    "from sklearn.model_selection import KFold, cross_val_score, train_test_split, GridSearchCV"
   ]
  },
  {
   "cell_type": "code",
   "execution_count": 2,
   "metadata": {},
   "outputs": [
    {
     "name": "stdout",
     "output_type": "stream",
     "text": [
      "50000\n"
     ]
    },
    {
     "data": {
      "text/html": [
       "<div>\n",
       "<style scoped>\n",
       "    .dataframe tbody tr th:only-of-type {\n",
       "        vertical-align: middle;\n",
       "    }\n",
       "\n",
       "    .dataframe tbody tr th {\n",
       "        vertical-align: top;\n",
       "    }\n",
       "\n",
       "    .dataframe thead th {\n",
       "        text-align: right;\n",
       "    }\n",
       "</style>\n",
       "<table border=\"1\" class=\"dataframe\">\n",
       "  <thead>\n",
       "    <tr style=\"text-align: right;\">\n",
       "      <th></th>\n",
       "      <th>review</th>\n",
       "      <th>sentiment</th>\n",
       "    </tr>\n",
       "  </thead>\n",
       "  <tbody>\n",
       "    <tr>\n",
       "      <th>0</th>\n",
       "      <td>One of the other reviewers has mentioned that ...</td>\n",
       "      <td>positive</td>\n",
       "    </tr>\n",
       "    <tr>\n",
       "      <th>1</th>\n",
       "      <td>A wonderful little production. &lt;br /&gt;&lt;br /&gt;The...</td>\n",
       "      <td>positive</td>\n",
       "    </tr>\n",
       "    <tr>\n",
       "      <th>2</th>\n",
       "      <td>I thought this was a wonderful way to spend ti...</td>\n",
       "      <td>positive</td>\n",
       "    </tr>\n",
       "    <tr>\n",
       "      <th>3</th>\n",
       "      <td>Basically there's a family where a little boy ...</td>\n",
       "      <td>negative</td>\n",
       "    </tr>\n",
       "    <tr>\n",
       "      <th>4</th>\n",
       "      <td>Petter Mattei's \"Love in the Time of Money\" is...</td>\n",
       "      <td>positive</td>\n",
       "    </tr>\n",
       "  </tbody>\n",
       "</table>\n",
       "</div>"
      ],
      "text/plain": [
       "                                              review sentiment\n",
       "0  One of the other reviewers has mentioned that ...  positive\n",
       "1  A wonderful little production. <br /><br />The...  positive\n",
       "2  I thought this was a wonderful way to spend ti...  positive\n",
       "3  Basically there's a family where a little boy ...  negative\n",
       "4  Petter Mattei's \"Love in the Time of Money\" is...  positive"
      ]
     },
     "execution_count": 2,
     "metadata": {},
     "output_type": "execute_result"
    }
   ],
   "source": [
    "data = pd.read_csv(r\"data\\IMDB Dataset.csv\")\n",
    "print(len(data))\n",
    "data.head()"
   ]
  },
  {
   "cell_type": "markdown",
   "metadata": {},
   "source": [
    "### Шаг 1. Подготовка данных\n",
    "\n",
    "В качестве исследуемых способов представления необходимо рассмотреть:\n",
    "#### 1. Bag of words: word counts ([CountVectorizer](https://scikit-learn.org/stable/modules/generated/sklearn.feature_extraction.text.CountVectorizer.html)). Компоненты вектора: частоты или относительные частоты."
   ]
  },
  {
   "cell_type": "code",
   "execution_count": 3,
   "metadata": {},
   "outputs": [
    {
     "data": {
      "text/plain": [
       "(50000, 101895)"
      ]
     },
     "execution_count": 3,
     "metadata": {},
     "output_type": "execute_result"
    }
   ],
   "source": [
    "vectorizer = CountVectorizer()\n",
    "X = vectorizer.fit_transform(data['review'])\n",
    "X.shape"
   ]
  },
  {
   "cell_type": "code",
   "execution_count": null,
   "metadata": {},
   "outputs": [],
   "source": [
    "# vectorizer1 = CountVectorizer()\n",
    "# X1 = vectorizer1.fit_transform(data['review']).toarray()\n",
    "# X1_train, X1_test, y_train, y_test = train_test_split(X1, y, test_size=0.3, random_state=63)"
   ]
  },
  {
   "cell_type": "markdown",
   "metadata": {},
   "source": [
    "#### 2. Bag of words: weird numbers ([TfidfVectorizer](https://scikit-learn.org/stable/modules/generated/sklearn.feature_extraction.text.TfidfVectorizer.html)). Компоненты вектора: оценки \"значимости\" слова (например tf-idf)."
   ]
  },
  {
   "cell_type": "code",
   "execution_count": 4,
   "metadata": {},
   "outputs": [
    {
     "data": {
      "text/plain": [
       "(50000, 101895)"
      ]
     },
     "execution_count": 4,
     "metadata": {},
     "output_type": "execute_result"
    }
   ],
   "source": [
    "vectorizer = TfidfVectorizer()\n",
    "X = vectorizer.fit_transform(data['review'])\n",
    "X.shape"
   ]
  },
  {
   "cell_type": "code",
   "execution_count": null,
   "metadata": {},
   "outputs": [],
   "source": [
    "# vectorizer2 = TfidfVectorizer()\n",
    "# X2 = vectorizer2.fit_transform(data['review']).toarray()\n",
    "# X2_train, X2_test = train_test_split(X2, test_size=0.3, random_state=63)"
   ]
  },
  {
   "cell_type": "markdown",
   "metadata": {},
   "source": [
    "#### 3. Bag of ngrams. Позволяет учитывать положение слов. Компоненты вектора: частоты N-грам. Примитивный подход, но в некоторых задачах он может улучшать качество решения."
   ]
  },
  {
   "cell_type": "code",
   "execution_count": 9,
   "metadata": {},
   "outputs": [],
   "source": [
    "cleaner = lambda text: re.sub('<.*?>|&([a-z0-9]+|#[0-9]{1,6}|#x[0-9a-f]{1,6});','',text)\n",
    "data['review'] = data['review'].map(cleaner)"
   ]
  },
  {
   "cell_type": "code",
   "execution_count": 10,
   "metadata": {},
   "outputs": [],
   "source": [
    "bag_of_ngrams = data['review'].map(lambda text: tuple(nltk.ngrams(text.split(' '), 2)))"
   ]
  },
  {
   "cell_type": "code",
   "execution_count": 11,
   "metadata": {},
   "outputs": [
    {
     "data": {
      "text/html": [
       "<div>\n",
       "<style scoped>\n",
       "    .dataframe tbody tr th:only-of-type {\n",
       "        vertical-align: middle;\n",
       "    }\n",
       "\n",
       "    .dataframe tbody tr th {\n",
       "        vertical-align: top;\n",
       "    }\n",
       "\n",
       "    .dataframe thead th {\n",
       "        text-align: right;\n",
       "    }\n",
       "</style>\n",
       "<table border=\"1\" class=\"dataframe\">\n",
       "  <thead>\n",
       "    <tr style=\"text-align: right;\">\n",
       "      <th></th>\n",
       "      <th>review</th>\n",
       "      <th>sentiment</th>\n",
       "    </tr>\n",
       "  </thead>\n",
       "  <tbody>\n",
       "    <tr>\n",
       "      <th>0</th>\n",
       "      <td>One of the other reviewers has mentioned that ...</td>\n",
       "      <td>1</td>\n",
       "    </tr>\n",
       "    <tr>\n",
       "      <th>1</th>\n",
       "      <td>A wonderful little production. The filming tec...</td>\n",
       "      <td>1</td>\n",
       "    </tr>\n",
       "    <tr>\n",
       "      <th>2</th>\n",
       "      <td>I thought this was a wonderful way to spend ti...</td>\n",
       "      <td>1</td>\n",
       "    </tr>\n",
       "    <tr>\n",
       "      <th>3</th>\n",
       "      <td>Basically there's a family where a little boy ...</td>\n",
       "      <td>0</td>\n",
       "    </tr>\n",
       "    <tr>\n",
       "      <th>4</th>\n",
       "      <td>Petter Mattei's \"Love in the Time of Money\" is...</td>\n",
       "      <td>1</td>\n",
       "    </tr>\n",
       "  </tbody>\n",
       "</table>\n",
       "</div>"
      ],
      "text/plain": [
       "                                              review  sentiment\n",
       "0  One of the other reviewers has mentioned that ...          1\n",
       "1  A wonderful little production. The filming tec...          1\n",
       "2  I thought this was a wonderful way to spend ti...          1\n",
       "3  Basically there's a family where a little boy ...          0\n",
       "4  Petter Mattei's \"Love in the Time of Money\" is...          1"
      ]
     },
     "execution_count": 11,
     "metadata": {},
     "output_type": "execute_result"
    }
   ],
   "source": [
    "le = LabelEncoder()\n",
    "data['sentiment'] = le.fit_transform(data['sentiment'])\n",
    "data.head()"
   ]
  },
  {
   "cell_type": "code",
   "execution_count": 45,
   "metadata": {},
   "outputs": [
    {
     "data": {
      "text/plain": [
       "0    ((One, of), (of, the), (the, other), (other, r...\n",
       "1    ((A, wonderful), (wonderful, little), (little,...\n",
       "2    ((I, thought), (thought, this), (this, was), (...\n",
       "3    ((Basically, there's), (there's, a), (a, famil...\n",
       "4    ((Petter, Mattei's), (Mattei's, \"Love), (\"Love...\n",
       "5    ((Probably, my), (my, all-time), (all-time, fa...\n",
       "6    ((I, sure), (sure, would), (would, like), (lik...\n",
       "7    ((This, show), (show, was), (was, an), (an, am...\n",
       "8    ((Encouraged, by), (by, the), (the, positive),...\n",
       "9    ((If, you), (you, like), (like, original), (or...\n",
       "Name: review, dtype: object"
      ]
     },
     "execution_count": 45,
     "metadata": {},
     "output_type": "execute_result"
    }
   ],
   "source": [
    "bag_of_ngrams[:10]"
   ]
  },
  {
   "cell_type": "markdown",
   "metadata": {},
   "source": [
    "### Шаг 2. Исследование моделей\n",
    "\n",
    "В зависимости от способа представления оценить качество классификации как долю правильных ответов на выборке (accuracy). Не забывайте использовать перекрестную проверку ([cross_val_score](https://scikit-learn.org/stable/modules/generated/sklearn.model_selection.cross_val_score.html), [KFold](https://scikit-learn.org/stable/modules/generated/sklearn.model_selection.KFold.html)).\n",
    "\n",
    "Для каждого из нижеперечисленных моделей необходимо определить оптимальные гиперпараметры ([GridSearchCV](https://scikit-learn.org/stable/modules/generated/sklearn.model_selection.GridSearchCV.html))"
   ]
  },
  {
   "cell_type": "code",
   "execution_count": 16,
   "metadata": {},
   "outputs": [],
   "source": [
    "X = data['review']\n",
    "y = data['sentiment']\n",
    "\n",
    "X_train, X_test, y_train, y_test = train_test_split(X, y, test_size=0.3)"
   ]
  },
  {
   "cell_type": "code",
   "execution_count": 17,
   "metadata": {},
   "outputs": [],
   "source": [
    "count_vec = CountVectorizer()\n",
    "countvec_train = count_vec.fit_transform(X_train)\n",
    "countvec_test = count_vec.transform(X_test)"
   ]
  },
  {
   "cell_type": "code",
   "execution_count": 18,
   "metadata": {},
   "outputs": [],
   "source": [
    "tfidf_vec = TfidfVectorizer()\n",
    "tfidfvec_train = tfidf_vec.fit_transform(X_train)\n",
    "tfidfvec_test = tfidf_vec.transform(X_test)"
   ]
  },
  {
   "cell_type": "markdown",
   "metadata": {},
   "source": [
    "Качество классификации оцениваем для следующих моделей:\n",
    "\n",
    "#### 1. Машина опорных векторов ([SVC](https://scikit-learn.org/stable/modules/generated/sklearn.svm.SVC.html))."
   ]
  },
  {
   "cell_type": "markdown",
   "metadata": {},
   "source": [
    "##### Count vectorizer"
   ]
  },
  {
   "cell_type": "code",
   "execution_count": 26,
   "metadata": {},
   "outputs": [
    {
     "name": "stdout",
     "output_type": "stream",
     "text": [
      "Wall time: 8min 6s\n"
     ]
    },
    {
     "data": {
      "text/plain": [
       "GridSearchCV(cv=KFold(n_splits=10, random_state=63, shuffle=True),\n",
       "             estimator=LinearSVC(random_state=63),\n",
       "             param_grid={'C': [1, 5, 10]})"
      ]
     },
     "execution_count": 26,
     "metadata": {},
     "output_type": "execute_result"
    }
   ],
   "source": [
    "%%time\n",
    "\n",
    "parameters = {'C':[1, 5, 10]}\n",
    "linear_svc = LinearSVC(random_state=63)\n",
    "cv = KFold(n_splits=10, shuffle=True, random_state=63)\n",
    "\n",
    "svm_clf_count = GridSearchCV(linear_svc, parameters, cv=cv)\n",
    "svm_clf_count.fit(countvec_train, y_train)"
   ]
  },
  {
   "cell_type": "markdown",
   "metadata": {},
   "source": [
    "##### TF-iDF"
   ]
  },
  {
   "cell_type": "code",
   "execution_count": 34,
   "metadata": {},
   "outputs": [
    {
     "name": "stdout",
     "output_type": "stream",
     "text": [
      "Wall time: 40.4 s\n"
     ]
    },
    {
     "data": {
      "text/plain": [
       "GridSearchCV(cv=KFold(n_splits=5, random_state=63, shuffle=True),\n",
       "             estimator=LinearSVC(random_state=63),\n",
       "             param_grid={'C': [1, 5, 10]})"
      ]
     },
     "execution_count": 34,
     "metadata": {},
     "output_type": "execute_result"
    }
   ],
   "source": [
    "%%time\n",
    "\n",
    "parameters = {'C':[1, 5, 10]}\n",
    "linear_svc = LinearSVC(random_state=63)\n",
    "cv = KFold(n_splits=5, shuffle=True, random_state=63)\n",
    "\n",
    "svm_clf_tfidf = GridSearchCV(linear_svc, parameters, cv=cv)\n",
    "svm_clf_tfidf.fit(tfidfvec_train, y_train)"
   ]
  },
  {
   "cell_type": "markdown",
   "metadata": {},
   "source": [
    "#### 2. Случайный лес ([RandomForestClassifier](https://scikit-learn.org/stable/modules/generated/sklearn.ensemble.RandomForestClassifier.html))."
   ]
  },
  {
   "cell_type": "markdown",
   "metadata": {},
   "source": [
    "##### Count vectorizer"
   ]
  },
  {
   "cell_type": "code",
   "execution_count": 37,
   "metadata": {
    "scrolled": true
   },
   "outputs": [
    {
     "name": "stdout",
     "output_type": "stream",
     "text": [
      "Wall time: 15min 31s\n"
     ]
    },
    {
     "data": {
      "text/plain": [
       "GridSearchCV(cv=KFold(n_splits=5, random_state=63, shuffle=True),\n",
       "             estimator=RandomForestClassifier(random_state=63),\n",
       "             param_grid={'n_estimators': [5, 10, 50]})"
      ]
     },
     "execution_count": 37,
     "metadata": {},
     "output_type": "execute_result"
    }
   ],
   "source": [
    "%%time\n",
    "\n",
    "parameters = {'n_estimators': [5, 10, 50]}\n",
    "forest = RandomForestClassifier(random_state=63)\n",
    "cv = KFold(n_splits=5, shuffle=True, random_state=63)\n",
    "\n",
    "forest_clf_count = GridSearchCV(forest, parameters, cv=cv)\n",
    "forest_clf_count.fit(countvec_train, y_train)"
   ]
  },
  {
   "cell_type": "markdown",
   "metadata": {},
   "source": [
    "##### TF-iDF"
   ]
  },
  {
   "cell_type": "code",
   "execution_count": 39,
   "metadata": {},
   "outputs": [
    {
     "name": "stdout",
     "output_type": "stream",
     "text": [
      "Wall time: 20min 15s\n"
     ]
    },
    {
     "data": {
      "text/plain": [
       "GridSearchCV(cv=KFold(n_splits=5, random_state=63, shuffle=True),\n",
       "             estimator=RandomForestClassifier(random_state=63),\n",
       "             param_grid={'n_estimators': [5, 10, 50]})"
      ]
     },
     "execution_count": 39,
     "metadata": {},
     "output_type": "execute_result"
    }
   ],
   "source": [
    "%%time\n",
    "\n",
    "parameters = {'n_estimators': [5, 10, 50]}\n",
    "forest = RandomForestClassifier(random_state=63)\n",
    "cv = KFold(n_splits=5, shuffle=True, random_state=63)\n",
    "\n",
    "forest_clf_tfidf = GridSearchCV(forest, parameters, cv=cv)\n",
    "forest_clf_tfidf.fit(tfidfvec_train, y_train)"
   ]
  },
  {
   "cell_type": "markdown",
   "metadata": {},
   "source": [
    "### Шаг 3. Сравнение результатов\n",
    "\n",
    "Сравнить точность обученных моделей. Найти наиболее точную."
   ]
  },
  {
   "cell_type": "code",
   "execution_count": 32,
   "metadata": {},
   "outputs": [],
   "source": [
    "def evaluator(estimator, x_test, y_test):\n",
    "    predict = estimator.predict(x_test)\n",
    "    print(\"Classification report: \\n\", classification_report(y_test, predict, target_names=['Negative','Positive']))\n",
    "    print(\"Confusion Matrix: \\n\", confusion_matrix(y_test, predict))\n",
    "    print(\"Accuracy: \\n\", accuracy_score(y_test, predict))"
   ]
  },
  {
   "cell_type": "code",
   "execution_count": 41,
   "metadata": {},
   "outputs": [
    {
     "name": "stdout",
     "output_type": "stream",
     "text": [
      "Classification report: \n",
      "               precision    recall  f1-score   support\n",
      "\n",
      "    Negative       0.87      0.86      0.86      7484\n",
      "    Positive       0.86      0.87      0.87      7516\n",
      "\n",
      "    accuracy                           0.87     15000\n",
      "   macro avg       0.87      0.87      0.87     15000\n",
      "weighted avg       0.87      0.87      0.87     15000\n",
      "\n",
      "Confusion Matrix: \n",
      " [[6442 1042]\n",
      " [ 976 6540]]\n",
      "Accuracy: \n",
      " 0.8654666666666667\n"
     ]
    }
   ],
   "source": [
    "# SVC CountVectorizer\n",
    "evaluator(svm_clf_count.best_estimator_, countvec_test, y_test)"
   ]
  },
  {
   "cell_type": "code",
   "execution_count": 42,
   "metadata": {},
   "outputs": [
    {
     "name": "stdout",
     "output_type": "stream",
     "text": [
      "Classification report: \n",
      "               precision    recall  f1-score   support\n",
      "\n",
      "    Negative       0.90      0.89      0.90      7484\n",
      "    Positive       0.89      0.91      0.90      7516\n",
      "\n",
      "    accuracy                           0.90     15000\n",
      "   macro avg       0.90      0.90      0.90     15000\n",
      "weighted avg       0.90      0.90      0.90     15000\n",
      "\n",
      "Confusion Matrix: \n",
      " [[6656  828]\n",
      " [ 710 6806]]\n",
      "Accuracy: \n",
      " 0.8974666666666666\n"
     ]
    }
   ],
   "source": [
    "# SVC TF-iDF\n",
    "evaluator(svm_clf_tfidf.best_estimator_, tfidfvec_test, y_test)"
   ]
  },
  {
   "cell_type": "code",
   "execution_count": 43,
   "metadata": {},
   "outputs": [
    {
     "name": "stdout",
     "output_type": "stream",
     "text": [
      "Classification report: \n",
      "               precision    recall  f1-score   support\n",
      "\n",
      "    Negative       0.82      0.84      0.83      7484\n",
      "    Positive       0.84      0.82      0.83      7516\n",
      "\n",
      "    accuracy                           0.83     15000\n",
      "   macro avg       0.83      0.83      0.83     15000\n",
      "weighted avg       0.83      0.83      0.83     15000\n",
      "\n",
      "Confusion Matrix: \n",
      " [[6281 1203]\n",
      " [1342 6174]]\n",
      "Accuracy: \n",
      " 0.8303333333333334\n"
     ]
    }
   ],
   "source": [
    "# RandomForestClassifier CountVectorizer\n",
    "evaluator(forest_clf_count.best_estimator_, countvec_test, y_test)"
   ]
  },
  {
   "cell_type": "code",
   "execution_count": 44,
   "metadata": {},
   "outputs": [
    {
     "name": "stdout",
     "output_type": "stream",
     "text": [
      "Classification report: \n",
      "               precision    recall  f1-score   support\n",
      "\n",
      "    Negative       0.81      0.83      0.82      7484\n",
      "    Positive       0.83      0.80      0.82      7516\n",
      "\n",
      "    accuracy                           0.82     15000\n",
      "   macro avg       0.82      0.82      0.82     15000\n",
      "weighted avg       0.82      0.82      0.82     15000\n",
      "\n",
      "Confusion Matrix: \n",
      " [[6248 1236]\n",
      " [1466 6050]]\n",
      "Accuracy: \n",
      " 0.8198666666666666\n"
     ]
    }
   ],
   "source": [
    "# RandomForestClassifier TF-iDF\n",
    "evaluator(forest_clf_tfidf.best_estimator_, tfidfvec_test, y_test)"
   ]
  },
  {
   "cell_type": "markdown",
   "metadata": {},
   "source": [
    "### Вывод"
   ]
  },
  {
   "cell_type": "markdown",
   "metadata": {},
   "source": [
    "- Наибольшее значение **Precision** ``0.90`` показал **SVM** классификатор с **TF-iDF** препроцессингом\n",
    "- Наибольшее значение **Recall** ``0.90`` показал **SVM** классификатор с **TF-iDF** препроцессингом\n",
    "- Наибольшее значение **F1-score** ``0.90`` показал **SVM** классификатор с **TF-iDF** препроцессингом\n",
    "- Наибольшее значение **Accuracy** ``0.8974666666666666`` показал **SVM** классификатор с **TF-iDF** препроцессингом\n",
    "- Наименьшее значение **Precision** ``0.82`` показал **RandomForestClassifier** классификатор с **TF-iDF** препроцессингом\n",
    "- Наименьшее значение **Recall** ``0.82`` показал **RandomForestClassifier** классификатор с **TF-iDF** препроцессингом\n",
    "- Наименьшее значение **F1-score** ``0.82`` показал **RandomForestClassifier** классификатор с **TF-iDF** препроцессингом\n",
    "- Наименьшее значение **Accuracy** ``0.8198666666666666`` показал **RandomForestClassifier** классификатор с **TF-iDF** препроцессингом"
   ]
  }
 ],
 "metadata": {
  "kernelspec": {
   "display_name": "Python 3",
   "language": "python",
   "name": "python3"
  },
  "language_info": {
   "codemirror_mode": {
    "name": "ipython",
    "version": 3
   },
   "file_extension": ".py",
   "mimetype": "text/x-python",
   "name": "python",
   "nbconvert_exporter": "python",
   "pygments_lexer": "ipython3",
   "version": "3.8.5"
  }
 },
 "nbformat": 4,
 "nbformat_minor": 4
}
